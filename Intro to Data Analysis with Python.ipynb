{
 "cells": [
  {
   "cell_type": "markdown",
   "metadata": {},
   "source": [
    "Before we get started, a couple of reminders to keep in mind when using iPython notebooks:\n",
    "\n",
    "- Remember that you can see from the left side of a code cell when it was last run if there is a number within the brackets.\n",
    "- When you start a new notebook session, make sure you run all of the cells up to the point where you last left off. Even if the output is still visible from when you ran the cells in your previous session, the kernel starts in a fresh state so you'll need to reload the data, etc. on a new session.\n",
    "- The previous point is useful to keep in mind if your answers do not match what is expected in the lesson's quizzes. Try reloading the data and run all of the processing steps one by one in order to make sure that you are working with the same variables and data that are at each quiz stage.\n",
    "\n",
    "\n",
    "## Load Data from CSVs"
   ]
  },
  {
   "cell_type": "code",
   "execution_count": 1,
   "metadata": {
    "collapsed": false
   },
   "outputs": [
    {
     "data": {
      "text/plain": [
       "{'account_key': '448',\n",
       " 'cancel_date': '2015-01-14',\n",
       " 'days_to_cancel': '65',\n",
       " 'is_canceled': 'True',\n",
       " 'is_udacity': 'True',\n",
       " 'join_date': '2014-11-10',\n",
       " 'status': 'canceled'}"
      ]
     },
     "execution_count": 1,
     "metadata": {},
     "output_type": "execute_result"
    }
   ],
   "source": [
    "import unicodecsv\n",
    "\n",
    "## Representing a CSV:\n",
    "## Option 1: Each row is a list, set is a list of lists \n",
    "## csv = [['a1','a2','a3'],\n",
    "##        ['b2','b3','b4']]\n",
    "## Option 2: Each row is a dictionary, works well if csv has a header because keys can be column names\n",
    "\n",
    "\n",
    "enrollments = [] # create list of enrollments\n",
    "f = open('enrollments.csv', 'rb') # open file; mode rb file opened for reading, b flag change way its read\n",
    "reader = unicodecsv.DictReader(f) # use dictreader because file has headers; returns iterator - for loop can access 1 at a time\n",
    "for row in reader:\n",
    "    enrollments.append(row) #appends each row to a list because you want to access multiple times\n",
    "f.close()\n",
    "\n",
    "## This code reads through csv and returns rows as key/value pairings(dictionary) and adds dictionary entries into list\n",
    "\n",
    "enrollments[0]\n",
    "\n",
    "\n",
    "#with open('enrollments.csv', 'rb') as f: #to avoid having to close the file, you can you with statement \n",
    "#    reader = unicodecsv.DictReader(f)\n",
    "#    enrollments = list(reader)"
   ]
  },
  {
   "cell_type": "code",
   "execution_count": 2,
   "metadata": {
    "collapsed": false
   },
   "outputs": [
    {
     "name": "stdout",
     "output_type": "stream",
     "text": [
      "Enrollments\n",
      "{'account_key': '448', 'is_udacity': 'True', 'cancel_date': '2015-01-14', 'join_date': '2014-11-10', 'days_to_cancel': '65', 'is_canceled': 'True', 'status': 'canceled'}\n",
      "\n",
      "Daily Engagement\n",
      "{'num_courses_visited': '1.0', 'acct': '0', 'total_minutes_visited': '11.6793745', 'projects_completed': '0.0', 'lessons_completed': '0.0', 'utc_date': '2015-01-09'}\n",
      "\n",
      "Project Submissions\n",
      "{'account_key': '256', 'lesson_key': '3176718735', 'processing_state': 'EVALUATED', 'creation_date': '2015-01-14', 'assigned_rating': 'UNGRADED', 'completion_date': '2015-01-16'}\n"
     ]
    }
   ],
   "source": [
    "#with open('enrollments.csv', 'rb') as e:\n",
    "#    reader = unicodecsv.DictReader(e)\n",
    "#    enrollments = list(reader)\n",
    "\n",
    "#with open('daily_engagement.csv', 'rb') as e:\n",
    "#    reader = unicodecsv.DictReader(e)\n",
    "#    daily_engagement = list(reader)\n",
    "    \n",
    "#with open('project_submissions.csv','rb') as s:\n",
    "#    reader = unicodecsv.DictReader(s)\n",
    "#    project_submissions = list(reader)\n",
    "\n",
    "\n",
    "def read_csv(filename):\n",
    "    with open(filename, 'rb') as f:\n",
    "        reader = unicodecsv.DictReader(f)\n",
    "        return list(reader)\n",
    "## have the function return a list, then set the list to a variable when the list is called\n",
    "    \n",
    "enrollments = read_csv('enrollments.csv')\n",
    "daily_engagement = read_csv('daily_engagement.csv')\n",
    "project_submissions = read_csv('project_submissions.csv')\n",
    "\n",
    "print('Enrollments')\n",
    "print(enrollments[0])\n",
    "print()\n",
    "print('Daily Engagement')\n",
    "print(daily_engagement[0])\n",
    "print()\n",
    "print('Project Submissions')\n",
    "print(project_submissions[0])\n",
    "\n",
    "## Read in the data from daily_engagement.csv and project_submissions.csv \n",
    "## and store the results in the below variables.\n",
    "## Then look at the first row of each table.\n",
    "\n",
    "#daily_engagement = \n",
    "#project_submissions = "
   ]
  },
  {
   "cell_type": "markdown",
   "metadata": {},
   "source": [
    "## Fixing Data Types"
   ]
  },
  {
   "cell_type": "code",
   "execution_count": 3,
   "metadata": {
    "collapsed": false
   },
   "outputs": [
    {
     "data": {
      "text/plain": [
       "{'account_key': '448',\n",
       " 'cancel_date': datetime.datetime(2015, 1, 14, 0, 0),\n",
       " 'days_to_cancel': 65,\n",
       " 'is_canceled': True,\n",
       " 'is_udacity': True,\n",
       " 'join_date': datetime.datetime(2014, 11, 10, 0, 0),\n",
       " 'status': 'canceled'}"
      ]
     },
     "execution_count": 3,
     "metadata": {},
     "output_type": "execute_result"
    }
   ],
   "source": [
    "## CSV library does not try to detect what type each column is; up to user to parse data into desired type\n",
    "\n",
    "\n",
    "from datetime import datetime as dt\n",
    "\n",
    "# Takes a date as a string, and returns a Python datetime object. \n",
    "# If there is no date given, returns None\n",
    "def parse_date(date):\n",
    "    if date == '':\n",
    "        return None\n",
    "    else:\n",
    "        return dt.strptime(date, '%Y-%m-%d')\n",
    "    \n",
    "# Takes a string which is either an empty string or represents an integer,\n",
    "# and returns an int or None.\n",
    "def parse_maybe_int(i):\n",
    "    if i == '':\n",
    "        return None\n",
    "    else:\n",
    "        return int(i)\n",
    "\n",
    "# Clean up the data types in the enrollments table\n",
    "for enrollment in enrollments:\n",
    "    enrollment['cancel_date'] = parse_date(enrollment['cancel_date'])\n",
    "    enrollment['days_to_cancel'] = parse_maybe_int(enrollment['days_to_cancel'])\n",
    "    enrollment['is_canceled'] = enrollment['is_canceled'] == 'True'\n",
    "    enrollment['is_udacity'] = enrollment['is_udacity'] == 'True'\n",
    "    enrollment['join_date'] = parse_date(enrollment['join_date'])\n",
    "    \n",
    "enrollments[0]"
   ]
  },
  {
   "cell_type": "code",
   "execution_count": 4,
   "metadata": {
    "collapsed": false
   },
   "outputs": [
    {
     "data": {
      "text/plain": [
       "{'acct': '0',\n",
       " 'lessons_completed': 0,\n",
       " 'num_courses_visited': 1,\n",
       " 'projects_completed': 0,\n",
       " 'total_minutes_visited': 11.6793745,\n",
       " 'utc_date': datetime.datetime(2015, 1, 9, 0, 0)}"
      ]
     },
     "execution_count": 4,
     "metadata": {},
     "output_type": "execute_result"
    }
   ],
   "source": [
    "# Clean up the data types in the engagement table\n",
    "for engagement_record in daily_engagement:\n",
    "    engagement_record['lessons_completed'] = int(float(engagement_record['lessons_completed']))\n",
    "    engagement_record['num_courses_visited'] = int(float(engagement_record['num_courses_visited']))\n",
    "    engagement_record['projects_completed'] = int(float(engagement_record['projects_completed']))\n",
    "    engagement_record['total_minutes_visited'] = float(engagement_record['total_minutes_visited'])\n",
    "    engagement_record['utc_date'] = parse_date(engagement_record['utc_date'])\n",
    "    \n",
    "daily_engagement[0]"
   ]
  },
  {
   "cell_type": "code",
   "execution_count": 5,
   "metadata": {
    "collapsed": false
   },
   "outputs": [
    {
     "data": {
      "text/plain": [
       "{'account_key': '256',\n",
       " 'assigned_rating': 'UNGRADED',\n",
       " 'completion_date': datetime.datetime(2015, 1, 16, 0, 0),\n",
       " 'creation_date': datetime.datetime(2015, 1, 14, 0, 0),\n",
       " 'lesson_key': '3176718735',\n",
       " 'processing_state': 'EVALUATED'}"
      ]
     },
     "execution_count": 5,
     "metadata": {},
     "output_type": "execute_result"
    }
   ],
   "source": [
    "# Clean up the data types in the submissions table\n",
    "for submission in project_submissions:\n",
    "    submission['completion_date'] = parse_date(submission['completion_date'])\n",
    "    submission['creation_date'] = parse_date(submission['creation_date'])\n",
    "\n",
    "project_submissions[0]"
   ]
  },
  {
   "cell_type": "markdown",
   "metadata": {},
   "source": [
    "Note when running the above cells that we are actively changing the contents of our data variables. If you try to run these cells multiple times in the same session, an error will occur.\n",
    "\n",
    "## Investigating the Data"
   ]
  },
  {
   "cell_type": "code",
   "execution_count": 6,
   "metadata": {
    "collapsed": false
   },
   "outputs": [],
   "source": [
    "## Modify list to correct for 'acct' key in daily engagments\n",
    "## Allows for consistency across data so that a general function can be used \n",
    "\n",
    "for engagement_record in daily_engagement: #loop through the data and create new key\n",
    "    engagement_record['account_key'] = engagement_record['acct'] #new key using values from existing key\n",
    "    del [engagement_record['acct']]\n",
    "\n",
    "\n",
    "    \n",
    "## Rename the \"acct\" column in the daily_engagement table to \"account_key\"."
   ]
  },
  {
   "cell_type": "code",
   "execution_count": 7,
   "metadata": {
    "collapsed": false
   },
   "outputs": [
    {
     "name": "stdout",
     "output_type": "stream",
     "text": [
      "Enrollments:  1640\n",
      "Daily engagement:  136240\n",
      "Project submissions:  3642\n",
      "\n",
      "Unique Enrollments:  1302\n",
      "Unique Daily engagement:  1237\n",
      "Unique Project Submissions:  743\n"
     ]
    }
   ],
   "source": [
    "print('Enrollments: ',  len(enrollments))\n",
    "print('Daily engagement: ',  len(daily_engagement))\n",
    "print('Project submissions: ', len(project_submissions))\n",
    "print()\n",
    "\n",
    "## Add account keys to a set, and then look at length of set\n",
    "\n",
    "#unique_enrolled_students = set()\n",
    "#for enrollment in enrollments:\n",
    "#    unique_enrolled_students.add(enrollment['account_key'])\n",
    "#print('Unique Enrollments: ', len(unique_enrolled_students))\n",
    "    \n",
    "#unique_engagement_students = set()\n",
    "#for engagement_record in daily_engagement:\n",
    "#    unique_engagement_students.add(engagement_record['account_key'])\n",
    "#print('Unique Engagement: ', len(unique_engagement_students))\n",
    "\n",
    "#unique_project_submissions = set()\n",
    "#for submission in project_submissions:\n",
    "#    unique_project_submissions.add(submission['account_key'])\n",
    "#print('Unique Submissions: ', len(unique_project_submissions))\n",
    "\n",
    "##Set function\n",
    "def get_unique_students(data):\n",
    "    unique_students = set() #create new empty set\n",
    "    for data_point in data: #loop through set\n",
    "        unique_students.add(data_point['account_key'])\n",
    "    return unique_students\n",
    "\n",
    "\n",
    "#set to new variable\n",
    "\n",
    "unique_enrolled_students = get_unique_students(enrollments)\n",
    "unique_engagement_students = get_unique_students(daily_engagement)\n",
    "unique_project_submissions = get_unique_students(project_submissions)\n",
    "\n",
    "\n",
    "print('Unique Enrollments: ',  len(unique_enrolled_students))\n",
    "print('Unique Daily engagement: ',  len(unique_engagement_students))\n",
    "print('Unique Project Submissions: ', len(unique_project_submissions))\n",
    "\n",
    "## 3642 project submissions from 743 unique students\n",
    "\n",
    "## Find the total number of rows and the number of unique students (account keys)\n",
    "## in each table."
   ]
  },
  {
   "cell_type": "markdown",
   "metadata": {},
   "source": [
    "## Problems in the Data"
   ]
  },
  {
   "cell_type": "markdown",
   "metadata": {},
   "source": [
    "## Missing Engagement Records"
   ]
  },
  {
   "cell_type": "code",
   "execution_count": 8,
   "metadata": {
    "collapsed": false
   },
   "outputs": [
    {
     "name": "stdout",
     "output_type": "stream",
     "text": [
      "{'account_key': '1219', 'is_udacity': False, 'cancel_date': datetime.datetime(2014, 11, 12, 0, 0), 'join_date': datetime.datetime(2014, 11, 12, 0, 0), 'days_to_cancel': 0, 'is_canceled': True, 'status': 'canceled'}\n"
     ]
    }
   ],
   "source": [
    "##Investigating first problem: Why are students missing from daily_engagement i.e. unique enrollments != daily engagement\n",
    "## 1) Identify suprising data point - any enrollment record with no corresponding engagement data\n",
    "## 2) Print out one or a few surprising data points\n",
    "\n",
    "for enrollment in enrollments: #loop over enrollment table\n",
    "    student = enrollment['account_key'] #set student variable to account key\n",
    "    if student not in unique_engagement_students: #if student/account key not in engagement, prints the record and breaks out of loop\n",
    "        print(enrollment)\n",
    "        break\n",
    "        \n",
    "\n",
    "\n",
    "\n",
    "## Find any one student enrollments where the student is missing from the daily engagement table.\n",
    "## Output that enrollment."
   ]
  },
  {
   "cell_type": "markdown",
   "metadata": {},
   "source": [
    "## Checking for More Problem Records"
   ]
  },
  {
   "cell_type": "code",
   "execution_count": 9,
   "metadata": {
    "collapsed": false
   },
   "outputs": [
    {
     "name": "stdout",
     "output_type": "stream",
     "text": [
      "{'account_key': '1304', 'is_udacity': True, 'cancel_date': datetime.datetime(2015, 3, 10, 0, 0), 'join_date': datetime.datetime(2015, 1, 10, 0, 0), 'days_to_cancel': 59, 'is_canceled': True, 'status': 'canceled'}\n",
      "{'account_key': '1304', 'is_udacity': True, 'cancel_date': datetime.datetime(2015, 6, 17, 0, 0), 'join_date': datetime.datetime(2015, 3, 10, 0, 0), 'days_to_cancel': 99, 'is_canceled': True, 'status': 'canceled'}\n",
      "{'account_key': '1101', 'is_udacity': True, 'cancel_date': None, 'join_date': datetime.datetime(2015, 2, 25, 0, 0), 'days_to_cancel': None, 'is_canceled': False, 'status': 'current'}\n",
      "3\n"
     ]
    }
   ],
   "source": [
    "num_problem_students = 0 #create variable to store the number of problem records\n",
    "\n",
    "for enrollment in enrollments:\n",
    "    student = enrollment['account_key']\n",
    "    if student not in unique_engagement_students and enrollment['join_date'] != enrollment['cancel_date']:\n",
    "        num_problem_students += 1\n",
    "        print(enrollment)\n",
    "        \n",
    "        \n",
    "print(num_problem_students)\n",
    "\n",
    "\n",
    "## Find the number of surprising data points (enrollments missing from\n",
    "## the engagement table) that remain, if any."
   ]
  },
  {
   "cell_type": "markdown",
   "metadata": {},
   "source": [
    "## Tracking Down the Remaining Problems"
   ]
  },
  {
   "cell_type": "code",
   "execution_count": 10,
   "metadata": {
    "collapsed": false
   },
   "outputs": [
    {
     "data": {
      "text/plain": [
       "6"
      ]
     },
     "execution_count": 10,
     "metadata": {},
     "output_type": "execute_result"
    }
   ],
   "source": [
    "# Create a set of the account keys for all Udacity test accounts\n",
    "udacity_test_accounts = set()\n",
    "for enrollment in enrollments:\n",
    "    if enrollment['is_udacity']:\n",
    "        udacity_test_accounts.add(enrollment['account_key'])\n",
    "len(udacity_test_accounts)"
   ]
  },
  {
   "cell_type": "code",
   "execution_count": 11,
   "metadata": {
    "collapsed": true
   },
   "outputs": [],
   "source": [
    "# Given some data with an account_key field, removes any records corresponding to Udacity test accounts\n",
    "def remove_udacity_accounts(data):\n",
    "    non_udacity_data = []\n",
    "    for data_point in data:\n",
    "        if data_point['account_key'] not in udacity_test_accounts:\n",
    "            non_udacity_data.append(data_point)\n",
    "    return non_udacity_data"
   ]
  },
  {
   "cell_type": "code",
   "execution_count": 12,
   "metadata": {
    "collapsed": false
   },
   "outputs": [
    {
     "name": "stdout",
     "output_type": "stream",
     "text": [
      "1622\n",
      "135656\n",
      "3634\n"
     ]
    }
   ],
   "source": [
    "# Remove Udacity test accounts from all three tables -- this is not the same as people who cancel after paying\n",
    "non_udacity_enrollments = remove_udacity_accounts(enrollments)\n",
    "non_udacity_engagement = remove_udacity_accounts(daily_engagement)\n",
    "non_udacity_submissions = remove_udacity_accounts(project_submissions)\n",
    "\n",
    "print(len(non_udacity_enrollments))\n",
    "print(len(non_udacity_engagement))\n",
    "print(len(non_udacity_submissions))"
   ]
  },
  {
   "cell_type": "markdown",
   "metadata": {},
   "source": [
    "## Refining the Question"
   ]
  },
  {
   "cell_type": "code",
   "execution_count": 13,
   "metadata": {
    "collapsed": false
   },
   "outputs": [
    {
     "name": "stdout",
     "output_type": "stream",
     "text": [
      "995\n"
     ]
    }
   ],
   "source": [
    "paid_students = {} #creates new dictionary\n",
    "for enrollment in non_udacity_enrollments: #loop through new enrollments list\n",
    "    if not enrollment['is_canceled'] or enrollment['days_to_cancel'] > 7: \n",
    "        account_key = enrollment['account_key']\n",
    "        enrollment_date = enrollment['join_date']\n",
    "        \n",
    "        if account_key not in paid_students or enrollment_date > paid_students[account_key]: #ensures that last join date recorded\n",
    "            paid_students[account_key] = enrollment_date\n",
    "        \n",
    "print(len(paid_students))\n",
    "\n",
    "\n",
    "## Create a dictionary named paid_students containing all students who either\n",
    "## haven't canceled yet or who remained enrolled for more than 7 days. The keys\n",
    "## should be account keys, and the values should be the date the student enrolled.\n",
    "\n",
    "#paid_students ="
   ]
  },
  {
   "cell_type": "markdown",
   "metadata": {},
   "source": [
    "## Getting Data from First Week"
   ]
  },
  {
   "cell_type": "code",
   "execution_count": 14,
   "metadata": {
    "collapsed": true
   },
   "outputs": [],
   "source": [
    "# Takes a student's join date and the date of a specific engagement record,\n",
    "# and returns True if that engagement record happened within one week\n",
    "# of the student joining.\n",
    "\n",
    "## UPDATE FOR BUG: not checking that engagement date actually came after join date. For students who enroll once, then cancel,\n",
    "## then enroll again later, everything from the first enrollment will count as their first week\n",
    "def within_one_week(join_date, engagement_date):\n",
    "    time_delta = engagement_date - join_date\n",
    "    return time_delta.days < 7 and time_delta.days >= 0 #check that at least zero days passed from join date to the engagement date"
   ]
  },
  {
   "cell_type": "code",
   "execution_count": 15,
   "metadata": {
    "collapsed": false
   },
   "outputs": [],
   "source": [
    "def remove_free_trial_cancels(data):\n",
    "    new_data = []\n",
    "    for data_point in data:\n",
    "        if data_point['account_key'] in paid_students:\n",
    "            new_data.append(data_point)\n",
    "    return new_data\n",
    "\n",
    "## Create a list of rows from the engagement table including only rows where\n",
    "## the student is one of the paid students you just found, and the date is within\n",
    "## one week of the student's join date.\n",
    "\n",
    "#paid_engagement_in_first_week = "
   ]
  },
  {
   "cell_type": "code",
   "execution_count": 16,
   "metadata": {
    "collapsed": false
   },
   "outputs": [
    {
     "name": "stdout",
     "output_type": "stream",
     "text": [
      "1293\n",
      "134549\n",
      "3618\n"
     ]
    }
   ],
   "source": [
    "paid_enrollments = remove_free_trial_cancels(non_udacity_enrollments)\n",
    "paid_engagement = remove_free_trial_cancels(non_udacity_engagement)\n",
    "paid_submissions = remove_free_trial_cancels(non_udacity_submissions)\n",
    "    \n",
    "print(len(paid_enrollments)) \n",
    "print(len(paid_engagement))\n",
    "print(len(paid_submissions))"
   ]
  },
  {
   "cell_type": "code",
   "execution_count": 17,
   "metadata": {
    "collapsed": false
   },
   "outputs": [],
   "source": [
    "for engagement_record in paid_engagement:\n",
    "    if engagement_record['num_courses_visited'] > 0 :\n",
    "        engagement_record['has_visited'] = 1\n",
    "    else:\n",
    "        engagement_record['has_visited'] = 0\n",
    "        \n",
    "##Inserting new field in engagement records to show if student visited classroom on a given day or not\n",
    "## "
   ]
  },
  {
   "cell_type": "code",
   "execution_count": 18,
   "metadata": {
    "collapsed": false
   },
   "outputs": [
    {
     "data": {
      "text/plain": [
       "6919"
      ]
     },
     "execution_count": 18,
     "metadata": {},
     "output_type": "execute_result"
    }
   ],
   "source": [
    "paid_engagement_in_first_week = []\n",
    "\n",
    "for engagement_record in paid_engagement: #loops through records in paid engagement\n",
    "    account_key = engagement_record['account_key']\n",
    "    join_date = paid_students[account_key]\n",
    "    engagement_record_date = engagement_record['utc_date']\n",
    "    \n",
    "    if within_one_week(join_date, engagement_record_date):\n",
    "        paid_engagement_in_first_week.append(engagement_record)\n",
    "\n",
    "len(paid_engagement_in_first_week)\n"
   ]
  },
  {
   "cell_type": "markdown",
   "metadata": {},
   "source": [
    "## Exploring Student Engagement"
   ]
  },
  {
   "cell_type": "code",
   "execution_count": 19,
   "metadata": {
    "collapsed": true
   },
   "outputs": [],
   "source": [
    "from collections import defaultdict\n",
    "\n",
    "# Create a dictionary of engagement grouped by student.\n",
    "# The keys are account keys, and the values are lists of engagement records.\n",
    "\n",
    "engagement_by_account = defaultdict(list)\n",
    "for engagement_record in paid_engagement_in_first_week:\n",
    "    account_key = engagement_record['account_key']\n",
    "    engagement_by_account[account_key].append(engagement_record)"
   ]
  },
  {
   "cell_type": "code",
   "execution_count": 20,
   "metadata": {
    "collapsed": true
   },
   "outputs": [],
   "source": [
    "# Create a dictionary with the total minutes each student spent in the classroom during the first week.\n",
    "# The keys are account keys, and the values are numbers (total minutes)\n",
    "total_minutes_by_account = {}\n",
    "for account_key, engagement_for_student in engagement_by_account.items():\n",
    "    total_minutes = 0\n",
    "    for engagement_record in engagement_for_student:\n",
    "        total_minutes += engagement_record['total_minutes_visited']\n",
    "    total_minutes_by_account[account_key] = total_minutes"
   ]
  },
  {
   "cell_type": "code",
   "execution_count": 21,
   "metadata": {
    "collapsed": false
   },
   "outputs": [
    {
     "name": "stdout",
     "output_type": "stream",
     "text": [
      "Mean:  306.708326753\n",
      "Standard Deviation:  412.996933409\n",
      "Minimum:  0.0\n",
      "Maximum:  3564.7332645\n"
     ]
    }
   ],
   "source": [
    "#total_minutes = total_minutes_by_account.values() - expression does not work\n",
    "## work around: create new list, throw values into them, run operations\n",
    "\n",
    "the_list = []\n",
    "for account_key in total_minutes_by_account:\n",
    "    minutes = total_minutes_by_account[account_key]\n",
    "    the_list.append(minutes)\n",
    "\n",
    "import numpy as np\n",
    "\n",
    "print('Mean: ', np.mean(the_list))\n",
    "print('Standard Deviation: ', np.std(the_list))\n",
    "print('Minimum: ', np.min(the_list))\n",
    "print('Maximum: ', np.max(the_list)) #Max amount of minutes studied here is greater than time alloted in a week; must have issue\n",
    "                                     #somewhere back in the code"
   ]
  },
  {
   "cell_type": "markdown",
   "metadata": {},
   "source": [
    "## Debugging Data Analysis Code"
   ]
  },
  {
   "cell_type": "code",
   "execution_count": 22,
   "metadata": {
    "collapsed": false
   },
   "outputs": [
    {
     "name": "stdout",
     "output_type": "stream",
     "text": [
      "3564.7332644989997\n",
      "163\n"
     ]
    }
   ],
   "source": [
    "student_with_max_minutes = None\n",
    "max_minutes = 0\n",
    "\n",
    "for student, total_minutes in total_minutes_by_account.items(): \n",
    "    if total_minutes > max_minutes:\n",
    "        max_minutes = total_minutes\n",
    "        student_with_max_minutes = student\n",
    "\n",
    "print(max_minutes)\n",
    "print(student_with_max_minutes)\n",
    "        \n",
    "## Go through a similar process as before to see if there is a problem.\n",
    "## Locate at least one surprising piece of data, output it, and take a look at it."
   ]
  },
  {
   "cell_type": "code",
   "execution_count": 23,
   "metadata": {
    "collapsed": false
   },
   "outputs": [
    {
     "name": "stdout",
     "output_type": "stream",
     "text": [
      "{'num_courses_visited': 4, 'account_key': '163', 'has_visited': 1, 'total_minutes_visited': 850.519339666, 'projects_completed': 0, 'lessons_completed': 4, 'utc_date': datetime.datetime(2015, 7, 9, 0, 0)}\n",
      "{'num_courses_visited': 6, 'account_key': '163', 'has_visited': 1, 'total_minutes_visited': 872.633923334, 'projects_completed': 0, 'lessons_completed': 6, 'utc_date': datetime.datetime(2015, 7, 10, 0, 0)}\n",
      "{'num_courses_visited': 2, 'account_key': '163', 'has_visited': 1, 'total_minutes_visited': 777.018903666, 'projects_completed': 0, 'lessons_completed': 6, 'utc_date': datetime.datetime(2015, 7, 11, 0, 0)}\n",
      "{'num_courses_visited': 1, 'account_key': '163', 'has_visited': 1, 'total_minutes_visited': 294.568774, 'projects_completed': 0, 'lessons_completed': 2, 'utc_date': datetime.datetime(2015, 7, 12, 0, 0)}\n",
      "{'num_courses_visited': 3, 'account_key': '163', 'has_visited': 1, 'total_minutes_visited': 471.2139785, 'projects_completed': 0, 'lessons_completed': 1, 'utc_date': datetime.datetime(2015, 7, 13, 0, 0)}\n",
      "{'num_courses_visited': 2, 'account_key': '163', 'has_visited': 1, 'total_minutes_visited': 298.778345333, 'projects_completed': 0, 'lessons_completed': 1, 'utc_date': datetime.datetime(2015, 7, 14, 0, 0)}\n",
      "{'num_courses_visited': 0, 'account_key': '163', 'has_visited': 0, 'total_minutes_visited': 0.0, 'projects_completed': 0, 'lessons_completed': 0, 'utc_date': datetime.datetime(2015, 7, 15, 0, 0)}\n"
     ]
    }
   ],
   "source": [
    "for engagement_record in paid_engagement_in_first_week:\n",
    "    if engagement_record['account_key'] == student_with_max_minutes:\n",
    "        print(engagement_record)\n",
    "        \n",
    "## There are more than 7 entries for student 108(10568minutes); should be the case as dictionary defined as within 7 days - \n",
    "## should include only 1 week's worth of data.  Something might be wrong with within_one_week function"
   ]
  },
  {
   "cell_type": "markdown",
   "metadata": {},
   "source": [
    "## Lessons Completed in First Week"
   ]
  },
  {
   "cell_type": "code",
   "execution_count": 24,
   "metadata": {
    "collapsed": false
   },
   "outputs": [
    {
     "name": "stdout",
     "output_type": "stream",
     "text": [
      "Mean:  306.708326753\n",
      "Standard Deviation:  412.996933409\n",
      "Minimum:  0.0\n",
      "Maximum:  3564.7332645\n",
      "\n",
      "Mean:  1.63618090452\n",
      "Standard Deviation:  3.00256129983\n",
      "Minimum:  0\n",
      "Maximum:  36\n"
     ]
    }
   ],
   "source": [
    "from collections import defaultdict\n",
    "\n",
    "def group_data(data, key_name):\n",
    "    grouped_data = defaultdict(list)\n",
    "    for data_point in data:\n",
    "        key = data_point[key_name]\n",
    "        grouped_data[key].append(data_point)\n",
    "    return grouped_data\n",
    "        \n",
    "engagement_by_account = group_data(paid_engagement_in_first_week,'account_key')\n",
    "\n",
    "def sum_grouped_items(grouped_data, field_name):\n",
    "    summed_data = {} \n",
    "    for key, data_points in grouped_data.items():\n",
    "        total = 0\n",
    "        for data_point in data_points:\n",
    "            total += data_point[field_name]\n",
    "        summed_data[key] = total\n",
    "    return summed_data\n",
    "\n",
    "total_minutes_by_account = sum_grouped_items(engagement_by_account, 'total_minutes_visited')\n",
    "lessons_completed_by_account = sum_grouped_items(engagement_by_account, 'lessons_completed')\n",
    "\n",
    "\n",
    "def data_list(data):\n",
    "    list_data = []\n",
    "    for account_key in data:\n",
    "        total = data[account_key]\n",
    "        list_data.append(total)\n",
    "    return(list_data)\n",
    "\n",
    "total_minutes_by_account = data_list(total_minutes_by_account)\n",
    "lessons_completed_by_account = data_list(lessons_completed_by_account)\n",
    "\n",
    "#minutes_list = []\n",
    "#for account_key in total_minutes_by_account:\n",
    "#    minutes = total_minutes_by_account[account_key]\n",
    "#    minutes_list.append(minutes)\n",
    "    \n",
    "#lessons_list = []\n",
    "#for account_key in lessons_completed_by_account:\n",
    "#    lessons = lessons_completed_by_account[account_key]\n",
    "#    lessons_list.append(lessons)\n",
    "\n",
    "import numpy as np\n",
    "\n",
    "def describe_data(data):\n",
    "    print('Mean: ', np.mean(data))\n",
    "    print('Standard Deviation: ', np.std(data))\n",
    "    print('Minimum: ', np.min(data))\n",
    "    print('Maximum: ', np.max(data))\n",
    "    \n",
    "\n",
    "describe_data(total_minutes_by_account)\n",
    "print()\n",
    "describe_data(lessons_completed_by_account)\n",
    "\n",
    "\n",
    "## Adapt the code above to find the mean, standard deviation, minimum, and maximum for\n",
    "## the number of lessons completed by each student during the first week. Try creating\n",
    "## one or more functions to re-use the code above."
   ]
  },
  {
   "cell_type": "markdown",
   "metadata": {},
   "source": [
    "## Number of Visits in First Week"
   ]
  },
  {
   "cell_type": "code",
   "execution_count": 25,
   "metadata": {
    "collapsed": false
   },
   "outputs": [
    {
     "name": "stdout",
     "output_type": "stream",
     "text": [
      "Mean:  2.86733668342\n",
      "Standard Deviation:  2.25519800292\n",
      "Minimum:  0\n",
      "Maximum:  7\n"
     ]
    }
   ],
   "source": [
    "days_visited_by_account = sum_grouped_items(engagement_by_account, 'has_visited')\n",
    "\n",
    "days_visited_by_account = data_list(days_visited_by_account)\n",
    "\n",
    "describe_data(days_visited_by_account) \n",
    "\n",
    "\n",
    "## Find the mean, standard deviation, minimum, and maximum for the number of\n",
    "## days each student visits the classroom during the first week."
   ]
  },
  {
   "cell_type": "markdown",
   "metadata": {},
   "source": [
    "## Splitting out Passing Students"
   ]
  },
  {
   "cell_type": "code",
   "execution_count": 36,
   "metadata": {
    "collapsed": false
   },
   "outputs": [
    {
     "name": "stdout",
     "output_type": "stream",
     "text": [
      "647\n",
      "Passing Engagement:  4527\n",
      "Non Passing Engagement:  2392\n"
     ]
    }
   ],
   "source": [
    "subway_project_lesson_keys = ['746169184', '3176718735']\n",
    "\n",
    "pass_subway_project = set()\n",
    "\n",
    "for submission in paid_submissions: #loops through records in paid submissions\n",
    "    project = submission['lesson_key']\n",
    "    rating = submission['assigned_rating']\n",
    "    if project in subway_project_lesson_keys and (rating == 'PASSED' or rating == 'DISTINCTION'): #parentheses good form\n",
    "        pass_subway_project.add(submission['account_key'])\n",
    "    \n",
    "    #if project == subway_project_lesson_keys[0] or project == subway_project_lesson_keys[1] -- Long way to write, can use\n",
    "    #python's \"in\" keyword to shorten by checking if lesson key is in subway_project_lesson_keys\n",
    "    \n",
    "print(len(pass_subway_project))     \n",
    "    \n",
    "\n",
    "\n",
    "## Create two lists of engagement data for paid students in the first week.\n",
    "## The first list should contain data for students who eventually pass the\n",
    "## subway project, and the second list should contain data for students\n",
    "## who do not.\n",
    "\n",
    "#subway_project_lesson_keys = ['746169184', '3176718735']\n",
    "\n",
    "passing_engagement = []\n",
    "non_passing_engagement = []\n",
    "for engagement_record in paid_engagement_in_first_week:\n",
    "    if engagement_record['account_key'] in pass_subway_project:\n",
    "        passing_engagement.append(engagement_record)\n",
    "    else:\n",
    "        non_passing_engagement.append(engagement_record)\n",
    "        \n",
    "        \n",
    "## use else to split more effectively\n",
    "#non_passing_engagement = []\n",
    "#for engagement_record in paid_engagement_in_first_week:\n",
    "#    if engagement_record['account_key'] not in passing_engagement:\n",
    "#        non_passing_engagement.append(engagement_record)\n",
    "        \n",
    "print('Passing Engagement: ', len(passing_engagement))\n",
    "print('Non Passing Engagement: ', len(non_passing_engagement))"
   ]
  },
  {
   "cell_type": "markdown",
   "metadata": {},
   "source": [
    "## Comparing the Two Student Groups"
   ]
  },
  {
   "cell_type": "code",
   "execution_count": 93,
   "metadata": {
    "collapsed": false,
    "scrolled": false
   },
   "outputs": [
    {
     "name": "stdout",
     "output_type": "stream",
     "text": [
      "Average minutes spent in class for first week of students who pass first project:\n",
      "Mean:  394.586046484\n",
      "Standard Deviation:  448.499519327\n",
      "Minimum:  0.0\n",
      "Maximum:  3564.7332645\n"
     ]
    },
    {
     "data": {
      "image/png": "[encoded data removed]",
      "text/plain": [
       "<matplotlib.figure.Figure at 0x8ccf350>"
      ]
     },
     "metadata": {},
     "output_type": "display_data"
    },
    {
     "name": "stdout",
     "output_type": "stream",
     "text": [
      "\n"
     ]
    }
   ],
   "source": [
    "print('Average minutes spent in class for first week of students who pass first project:')\n",
    "##Archtype function flow\n",
    "#passing_engagement_by_account = group_data(passing_engagement,'account_key')\n",
    "#passing_engagement_by_account = sum_grouped_items(passing_engagement_by_account, 'total_minutes_visited')\n",
    "#passing_engagement_by_account = data_list(passing_engagement_by_account)\n",
    "#describe_data(passing_engagement_by_account)\n",
    "#print()\n",
    "\n",
    "import matplotlib.pyplot as plt\n",
    "import numpy as np\n",
    "import seaborn as sns\n",
    "\n",
    "##Archetype as function\n",
    "def get_metrics(data, fieldname, title, xlabel, ylabel):\n",
    "    data_place_holder = group_data(data, 'account_key')\n",
    "    data_place_holder = sum_grouped_items(data_place_holder, fieldname)\n",
    "    data_place_holder = data_list(data_place_holder)\n",
    "    describe_data(data_place_holder)\n",
    "    plt.hist(data_place_holder)\n",
    "    plt.title(title)\n",
    "    plt.xlabel(xlabel)\n",
    "    plt.ylabel(ylabel)\n",
    "    plt.show()\n",
    "    \n",
    "get_metrics(passing_engagement, 'total_minutes_visited', 'Total minutes visited', 'account key', 'minutes spent')\n",
    "print()\n",
    "#get_metrics(non_passing_engagement, 'total_minutes_visited')\n",
    "#print()\n",
    "#get_metrics(passing_engagement, 'lessons_completed')\n",
    "#print()\n",
    "#get_metrics(non_passing_engagement, 'lessons_completed')\n",
    "#get_metrics(passing_engagement, 'has_visited')\n",
    "#get_metrics(non_passing_engagement, 'has_visited')\n",
    "\n",
    "\n",
    "def get_histo(data, fieldname):\n",
    "    data_place_holder = group_data(data, 'account_key')\n",
    "    data_place_holder = sum_grouped_items(data_place_holder, fieldname)\n",
    "    data_place_holder = data_list(data_place_holder)\n",
    "    return data_place_holder\n",
    "\n",
    "## Compute some metrics you're interested in and see how they differ for\n",
    "## students who pass the subway project vs. students who don't. A good\n",
    "## starting point would be the metrics we looked at earlier (minutes spent\n",
    "## in the classroom, lessons completed, and days visited)."
   ]
  },
  {
   "cell_type": "markdown",
   "metadata": {},
   "source": [
    "## Making Histograms"
   ]
  },
  {
   "cell_type": "code",
   "execution_count": 86,
   "metadata": {
    "collapsed": false
   },
   "outputs": [],
   "source": [
    "\n",
    "\n",
    "\n",
    "#plt.hist(total_minutes_by_account)\n",
    "\n",
    "## Make histograms of the three metrics we looked at earlier for both\n",
    "## students who passed the subway project and students who didn't. You\n",
    "## might also want to make histograms of any other metrics you examined."
   ]
  },
  {
   "cell_type": "markdown",
   "metadata": {},
   "source": [
    "## Improving Plots and Sharing Findings"
   ]
  },
  {
   "cell_type": "code",
   "execution_count": null,
   "metadata": {
    "collapsed": true
   },
   "outputs": [],
   "source": [
    "######################################\n",
    "#                 14                 #\n",
    "######################################\n",
    "\n",
    "## Make a more polished version of at least one of your visualizations\n",
    "## from earlier. Try importing the seaborn library to make the visualization\n",
    "## look better, adding axis labels and a title, and changing one or more\n",
    "## arguments to the hist() function."
   ]
  }
 ],
 "metadata": {
  "anaconda-cloud": {},
  "kernelspec": {
   "display_name": "Python [conda root]",
   "language": "python",
   "name": "conda-root-py"
  },
  "language_info": {
   "codemirror_mode": {
    "name": "ipython",
    "version": 3
   },
   "file_extension": ".py",
   "mimetype": "text/x-python",
   "name": "python",
   "nbconvert_exporter": "python",
   "pygments_lexer": "ipython3",
   "version": "3.5.2"
  }
 },
 "nbformat": 4,
 "nbformat_minor": 0
}
